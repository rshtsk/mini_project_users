{
 "cells": [
  {
   "cell_type": "markdown",
   "id": "b11b80ca-1ca9-4d31-b528-6d7ba7096446",
   "metadata": {},
   "source": [
    "## Анализ поведения клиентов на сайте"
   ]
  },
  {
   "cell_type": "code",
   "execution_count": 23,
   "id": "af068eb1-4e85-4a3e-9e4f-5af1b8694f43",
   "metadata": {},
   "outputs": [],
   "source": [
    "#импорт необходимых библиотек\n",
    "import pandas as pd \n",
    "import seaborn as sns"
   ]
  },
  {
   "cell_type": "markdown",
   "id": "6fbe8ca4-9045-4f97-85da-9944c53524f7",
   "metadata": {},
   "source": [
    "### Загружаем csv-файлы с данными о пользователях и их действиях на сайте"
   ]
  },
  {
   "cell_type": "code",
   "execution_count": 24,
   "id": "8af3bb71-2c9d-40b5-8122-11ee2d2009d9",
   "metadata": {},
   "outputs": [],
   "source": [
    "#импорт csv c разделитлем ,\n",
    "#загружаем файл в df\n",
    "\n",
    "user_data = pd.read_csv('/Users/ajsyluakataeva/Karpov/lesson_3/user_data.csv', sep=',')\n",
    "logs = pd.read_csv('/Users/ajsyluakataeva/Karpov/lesson_3/logs.csv', sep=',')\n",
    "\n"
   ]
  },
  {
   "cell_type": "code",
   "execution_count": 25,
   "id": "cc05782e-0ce9-45d4-8206-f845bfcec7b3",
   "metadata": {},
   "outputs": [
    {
     "data": {
      "text/html": [
       "<div>\n",
       "<style scoped>\n",
       "    .dataframe tbody tr th:only-of-type {\n",
       "        vertical-align: middle;\n",
       "    }\n",
       "\n",
       "    .dataframe tbody tr th {\n",
       "        vertical-align: top;\n",
       "    }\n",
       "\n",
       "    .dataframe thead th {\n",
       "        text-align: right;\n",
       "    }\n",
       "</style>\n",
       "<table border=\"1\" class=\"dataframe\">\n",
       "  <thead>\n",
       "    <tr style=\"text-align: right;\">\n",
       "      <th></th>\n",
       "      <th>client</th>\n",
       "      <th>premium</th>\n",
       "      <th>age</th>\n",
       "    </tr>\n",
       "  </thead>\n",
       "  <tbody>\n",
       "    <tr>\n",
       "      <th>0</th>\n",
       "      <td>1001</td>\n",
       "      <td>True</td>\n",
       "      <td>25</td>\n",
       "    </tr>\n",
       "    <tr>\n",
       "      <th>1</th>\n",
       "      <td>1002</td>\n",
       "      <td>False</td>\n",
       "      <td>30</td>\n",
       "    </tr>\n",
       "    <tr>\n",
       "      <th>2</th>\n",
       "      <td>1003</td>\n",
       "      <td>True</td>\n",
       "      <td>45</td>\n",
       "    </tr>\n",
       "    <tr>\n",
       "      <th>3</th>\n",
       "      <td>1004</td>\n",
       "      <td>False</td>\n",
       "      <td>22</td>\n",
       "    </tr>\n",
       "    <tr>\n",
       "      <th>4</th>\n",
       "      <td>1005</td>\n",
       "      <td>True</td>\n",
       "      <td>35</td>\n",
       "    </tr>\n",
       "    <tr>\n",
       "      <th>...</th>\n",
       "      <td>...</td>\n",
       "      <td>...</td>\n",
       "      <td>...</td>\n",
       "    </tr>\n",
       "    <tr>\n",
       "      <th>95</th>\n",
       "      <td>1096</td>\n",
       "      <td>False</td>\n",
       "      <td>36</td>\n",
       "    </tr>\n",
       "    <tr>\n",
       "      <th>96</th>\n",
       "      <td>1097</td>\n",
       "      <td>True</td>\n",
       "      <td>27</td>\n",
       "    </tr>\n",
       "    <tr>\n",
       "      <th>97</th>\n",
       "      <td>1098</td>\n",
       "      <td>False</td>\n",
       "      <td>25</td>\n",
       "    </tr>\n",
       "    <tr>\n",
       "      <th>98</th>\n",
       "      <td>1099</td>\n",
       "      <td>True</td>\n",
       "      <td>54</td>\n",
       "    </tr>\n",
       "    <tr>\n",
       "      <th>99</th>\n",
       "      <td>1100</td>\n",
       "      <td>False</td>\n",
       "      <td>42</td>\n",
       "    </tr>\n",
       "  </tbody>\n",
       "</table>\n",
       "<p>100 rows × 3 columns</p>\n",
       "</div>"
      ],
      "text/plain": [
       "    client  premium  age\n",
       "0     1001     True   25\n",
       "1     1002    False   30\n",
       "2     1003     True   45\n",
       "3     1004    False   22\n",
       "4     1005     True   35\n",
       "..     ...      ...  ...\n",
       "95    1096    False   36\n",
       "96    1097     True   27\n",
       "97    1098    False   25\n",
       "98    1099     True   54\n",
       "99    1100    False   42\n",
       "\n",
       "[100 rows x 3 columns]"
      ]
     },
     "execution_count": 25,
     "metadata": {},
     "output_type": "execute_result"
    }
   ],
   "source": [
    "user_data.shape\n",
    "user_data.dtypes\n",
    "user_data.describe()\n",
    "user_data"
   ]
  },
  {
   "cell_type": "code",
   "execution_count": 26,
   "id": "f18069e5-1e34-44e1-80f6-3d4a57dcae27",
   "metadata": {},
   "outputs": [
    {
     "data": {
      "text/html": [
       "<div>\n",
       "<style scoped>\n",
       "    .dataframe tbody tr th:only-of-type {\n",
       "        vertical-align: middle;\n",
       "    }\n",
       "\n",
       "    .dataframe tbody tr th {\n",
       "        vertical-align: top;\n",
       "    }\n",
       "\n",
       "    .dataframe thead th {\n",
       "        text-align: right;\n",
       "    }\n",
       "</style>\n",
       "<table border=\"1\" class=\"dataframe\">\n",
       "  <thead>\n",
       "    <tr style=\"text-align: right;\">\n",
       "      <th></th>\n",
       "      <th>client</th>\n",
       "      <th>success</th>\n",
       "      <th>platform</th>\n",
       "      <th>time</th>\n",
       "    </tr>\n",
       "  </thead>\n",
       "  <tbody>\n",
       "    <tr>\n",
       "      <th>0</th>\n",
       "      <td>1001</td>\n",
       "      <td>1</td>\n",
       "      <td>web</td>\n",
       "      <td>1690000000</td>\n",
       "    </tr>\n",
       "    <tr>\n",
       "      <th>1</th>\n",
       "      <td>1001</td>\n",
       "      <td>1</td>\n",
       "      <td>mobile</td>\n",
       "      <td>1690001000</td>\n",
       "    </tr>\n",
       "    <tr>\n",
       "      <th>2</th>\n",
       "      <td>1003</td>\n",
       "      <td>1</td>\n",
       "      <td>desktop</td>\n",
       "      <td>1690002000</td>\n",
       "    </tr>\n",
       "    <tr>\n",
       "      <th>3</th>\n",
       "      <td>1004</td>\n",
       "      <td>1</td>\n",
       "      <td>web</td>\n",
       "      <td>1690003000</td>\n",
       "    </tr>\n",
       "    <tr>\n",
       "      <th>4</th>\n",
       "      <td>1005</td>\n",
       "      <td>0</td>\n",
       "      <td>mobile</td>\n",
       "      <td>1690004000</td>\n",
       "    </tr>\n",
       "    <tr>\n",
       "      <th>5</th>\n",
       "      <td>1006</td>\n",
       "      <td>1</td>\n",
       "      <td>desktop</td>\n",
       "      <td>1690005000</td>\n",
       "    </tr>\n",
       "    <tr>\n",
       "      <th>6</th>\n",
       "      <td>1007</td>\n",
       "      <td>1</td>\n",
       "      <td>web</td>\n",
       "      <td>1690006000</td>\n",
       "    </tr>\n",
       "    <tr>\n",
       "      <th>7</th>\n",
       "      <td>1008</td>\n",
       "      <td>0</td>\n",
       "      <td>mobile</td>\n",
       "      <td>1690007000</td>\n",
       "    </tr>\n",
       "    <tr>\n",
       "      <th>8</th>\n",
       "      <td>1009</td>\n",
       "      <td>1</td>\n",
       "      <td>desktop</td>\n",
       "      <td>1690008000</td>\n",
       "    </tr>\n",
       "    <tr>\n",
       "      <th>9</th>\n",
       "      <td>1010</td>\n",
       "      <td>1</td>\n",
       "      <td>web</td>\n",
       "      <td>1690009000</td>\n",
       "    </tr>\n",
       "    <tr>\n",
       "      <th>10</th>\n",
       "      <td>1011</td>\n",
       "      <td>0</td>\n",
       "      <td>mobile</td>\n",
       "      <td>1690010000</td>\n",
       "    </tr>\n",
       "    <tr>\n",
       "      <th>11</th>\n",
       "      <td>1012</td>\n",
       "      <td>1</td>\n",
       "      <td>desktop</td>\n",
       "      <td>1690011000</td>\n",
       "    </tr>\n",
       "    <tr>\n",
       "      <th>12</th>\n",
       "      <td>1013</td>\n",
       "      <td>1</td>\n",
       "      <td>web</td>\n",
       "      <td>1690012000</td>\n",
       "    </tr>\n",
       "    <tr>\n",
       "      <th>13</th>\n",
       "      <td>1014</td>\n",
       "      <td>0</td>\n",
       "      <td>mobile</td>\n",
       "      <td>1690013000</td>\n",
       "    </tr>\n",
       "    <tr>\n",
       "      <th>14</th>\n",
       "      <td>1015</td>\n",
       "      <td>1</td>\n",
       "      <td>desktop</td>\n",
       "      <td>1690014000</td>\n",
       "    </tr>\n",
       "    <tr>\n",
       "      <th>15</th>\n",
       "      <td>1016</td>\n",
       "      <td>0</td>\n",
       "      <td>web</td>\n",
       "      <td>1690015000</td>\n",
       "    </tr>\n",
       "    <tr>\n",
       "      <th>16</th>\n",
       "      <td>1017</td>\n",
       "      <td>1</td>\n",
       "      <td>mobile</td>\n",
       "      <td>1690016000</td>\n",
       "    </tr>\n",
       "    <tr>\n",
       "      <th>17</th>\n",
       "      <td>1018</td>\n",
       "      <td>1</td>\n",
       "      <td>desktop</td>\n",
       "      <td>1690017000</td>\n",
       "    </tr>\n",
       "    <tr>\n",
       "      <th>18</th>\n",
       "      <td>1019</td>\n",
       "      <td>0</td>\n",
       "      <td>web</td>\n",
       "      <td>1690018000</td>\n",
       "    </tr>\n",
       "    <tr>\n",
       "      <th>19</th>\n",
       "      <td>1020</td>\n",
       "      <td>1</td>\n",
       "      <td>mobile</td>\n",
       "      <td>1690019000</td>\n",
       "    </tr>\n",
       "    <tr>\n",
       "      <th>20</th>\n",
       "      <td>1021</td>\n",
       "      <td>1</td>\n",
       "      <td>desktop</td>\n",
       "      <td>1690020000</td>\n",
       "    </tr>\n",
       "    <tr>\n",
       "      <th>21</th>\n",
       "      <td>1022</td>\n",
       "      <td>0</td>\n",
       "      <td>web</td>\n",
       "      <td>1690021000</td>\n",
       "    </tr>\n",
       "    <tr>\n",
       "      <th>22</th>\n",
       "      <td>1023</td>\n",
       "      <td>1</td>\n",
       "      <td>mobile</td>\n",
       "      <td>1690022000</td>\n",
       "    </tr>\n",
       "    <tr>\n",
       "      <th>23</th>\n",
       "      <td>1024</td>\n",
       "      <td>0</td>\n",
       "      <td>desktop</td>\n",
       "      <td>1690023000</td>\n",
       "    </tr>\n",
       "    <tr>\n",
       "      <th>24</th>\n",
       "      <td>1025</td>\n",
       "      <td>1</td>\n",
       "      <td>web</td>\n",
       "      <td>1690024000</td>\n",
       "    </tr>\n",
       "    <tr>\n",
       "      <th>25</th>\n",
       "      <td>1026</td>\n",
       "      <td>0</td>\n",
       "      <td>mobile</td>\n",
       "      <td>1690025000</td>\n",
       "    </tr>\n",
       "    <tr>\n",
       "      <th>26</th>\n",
       "      <td>1027</td>\n",
       "      <td>1</td>\n",
       "      <td>desktop</td>\n",
       "      <td>1690026000</td>\n",
       "    </tr>\n",
       "    <tr>\n",
       "      <th>27</th>\n",
       "      <td>1028</td>\n",
       "      <td>1</td>\n",
       "      <td>web</td>\n",
       "      <td>1690027000</td>\n",
       "    </tr>\n",
       "    <tr>\n",
       "      <th>28</th>\n",
       "      <td>1029</td>\n",
       "      <td>0</td>\n",
       "      <td>mobile</td>\n",
       "      <td>1690028000</td>\n",
       "    </tr>\n",
       "    <tr>\n",
       "      <th>29</th>\n",
       "      <td>1030</td>\n",
       "      <td>1</td>\n",
       "      <td>desktop</td>\n",
       "      <td>1690029000</td>\n",
       "    </tr>\n",
       "    <tr>\n",
       "      <th>30</th>\n",
       "      <td>1031</td>\n",
       "      <td>1</td>\n",
       "      <td>web</td>\n",
       "      <td>1690030000</td>\n",
       "    </tr>\n",
       "    <tr>\n",
       "      <th>31</th>\n",
       "      <td>1032</td>\n",
       "      <td>0</td>\n",
       "      <td>mobile</td>\n",
       "      <td>1690031000</td>\n",
       "    </tr>\n",
       "    <tr>\n",
       "      <th>32</th>\n",
       "      <td>1033</td>\n",
       "      <td>1</td>\n",
       "      <td>desktop</td>\n",
       "      <td>1690032000</td>\n",
       "    </tr>\n",
       "    <tr>\n",
       "      <th>33</th>\n",
       "      <td>1034</td>\n",
       "      <td>1</td>\n",
       "      <td>web</td>\n",
       "      <td>1690033000</td>\n",
       "    </tr>\n",
       "    <tr>\n",
       "      <th>34</th>\n",
       "      <td>1035</td>\n",
       "      <td>0</td>\n",
       "      <td>mobile</td>\n",
       "      <td>1690034000</td>\n",
       "    </tr>\n",
       "    <tr>\n",
       "      <th>35</th>\n",
       "      <td>1036</td>\n",
       "      <td>1</td>\n",
       "      <td>desktop</td>\n",
       "      <td>1690035000</td>\n",
       "    </tr>\n",
       "    <tr>\n",
       "      <th>36</th>\n",
       "      <td>1037</td>\n",
       "      <td>0</td>\n",
       "      <td>web</td>\n",
       "      <td>1690036000</td>\n",
       "    </tr>\n",
       "    <tr>\n",
       "      <th>37</th>\n",
       "      <td>1038</td>\n",
       "      <td>1</td>\n",
       "      <td>mobile</td>\n",
       "      <td>1690037000</td>\n",
       "    </tr>\n",
       "    <tr>\n",
       "      <th>38</th>\n",
       "      <td>1039</td>\n",
       "      <td>1</td>\n",
       "      <td>desktop</td>\n",
       "      <td>1690038000</td>\n",
       "    </tr>\n",
       "    <tr>\n",
       "      <th>39</th>\n",
       "      <td>1040</td>\n",
       "      <td>0</td>\n",
       "      <td>web</td>\n",
       "      <td>1690039000</td>\n",
       "    </tr>\n",
       "    <tr>\n",
       "      <th>40</th>\n",
       "      <td>1041</td>\n",
       "      <td>1</td>\n",
       "      <td>mobile</td>\n",
       "      <td>1690040000</td>\n",
       "    </tr>\n",
       "    <tr>\n",
       "      <th>41</th>\n",
       "      <td>1042</td>\n",
       "      <td>1</td>\n",
       "      <td>desktop</td>\n",
       "      <td>1690041000</td>\n",
       "    </tr>\n",
       "    <tr>\n",
       "      <th>42</th>\n",
       "      <td>1043</td>\n",
       "      <td>0</td>\n",
       "      <td>web</td>\n",
       "      <td>1690042000</td>\n",
       "    </tr>\n",
       "    <tr>\n",
       "      <th>43</th>\n",
       "      <td>1044</td>\n",
       "      <td>1</td>\n",
       "      <td>mobile</td>\n",
       "      <td>1690043000</td>\n",
       "    </tr>\n",
       "    <tr>\n",
       "      <th>44</th>\n",
       "      <td>1045</td>\n",
       "      <td>1</td>\n",
       "      <td>desktop</td>\n",
       "      <td>1690044000</td>\n",
       "    </tr>\n",
       "    <tr>\n",
       "      <th>45</th>\n",
       "      <td>1046</td>\n",
       "      <td>0</td>\n",
       "      <td>web</td>\n",
       "      <td>1690045000</td>\n",
       "    </tr>\n",
       "    <tr>\n",
       "      <th>46</th>\n",
       "      <td>1047</td>\n",
       "      <td>1</td>\n",
       "      <td>mobile</td>\n",
       "      <td>1690046000</td>\n",
       "    </tr>\n",
       "    <tr>\n",
       "      <th>47</th>\n",
       "      <td>1048</td>\n",
       "      <td>1</td>\n",
       "      <td>desktop</td>\n",
       "      <td>1690047000</td>\n",
       "    </tr>\n",
       "    <tr>\n",
       "      <th>48</th>\n",
       "      <td>1049</td>\n",
       "      <td>0</td>\n",
       "      <td>web</td>\n",
       "      <td>1690048000</td>\n",
       "    </tr>\n",
       "    <tr>\n",
       "      <th>49</th>\n",
       "      <td>1050</td>\n",
       "      <td>1</td>\n",
       "      <td>mobile</td>\n",
       "      <td>1690049000</td>\n",
       "    </tr>\n",
       "  </tbody>\n",
       "</table>\n",
       "</div>"
      ],
      "text/plain": [
       "    client  success platform        time\n",
       "0     1001        1      web  1690000000\n",
       "1     1001        1   mobile  1690001000\n",
       "2     1003        1  desktop  1690002000\n",
       "3     1004        1      web  1690003000\n",
       "4     1005        0   mobile  1690004000\n",
       "5     1006        1  desktop  1690005000\n",
       "6     1007        1      web  1690006000\n",
       "7     1008        0   mobile  1690007000\n",
       "8     1009        1  desktop  1690008000\n",
       "9     1010        1      web  1690009000\n",
       "10    1011        0   mobile  1690010000\n",
       "11    1012        1  desktop  1690011000\n",
       "12    1013        1      web  1690012000\n",
       "13    1014        0   mobile  1690013000\n",
       "14    1015        1  desktop  1690014000\n",
       "15    1016        0      web  1690015000\n",
       "16    1017        1   mobile  1690016000\n",
       "17    1018        1  desktop  1690017000\n",
       "18    1019        0      web  1690018000\n",
       "19    1020        1   mobile  1690019000\n",
       "20    1021        1  desktop  1690020000\n",
       "21    1022        0      web  1690021000\n",
       "22    1023        1   mobile  1690022000\n",
       "23    1024        0  desktop  1690023000\n",
       "24    1025        1      web  1690024000\n",
       "25    1026        0   mobile  1690025000\n",
       "26    1027        1  desktop  1690026000\n",
       "27    1028        1      web  1690027000\n",
       "28    1029        0   mobile  1690028000\n",
       "29    1030        1  desktop  1690029000\n",
       "30    1031        1      web  1690030000\n",
       "31    1032        0   mobile  1690031000\n",
       "32    1033        1  desktop  1690032000\n",
       "33    1034        1      web  1690033000\n",
       "34    1035        0   mobile  1690034000\n",
       "35    1036        1  desktop  1690035000\n",
       "36    1037        0      web  1690036000\n",
       "37    1038        1   mobile  1690037000\n",
       "38    1039        1  desktop  1690038000\n",
       "39    1040        0      web  1690039000\n",
       "40    1041        1   mobile  1690040000\n",
       "41    1042        1  desktop  1690041000\n",
       "42    1043        0      web  1690042000\n",
       "43    1044        1   mobile  1690043000\n",
       "44    1045        1  desktop  1690044000\n",
       "45    1046        0      web  1690045000\n",
       "46    1047        1   mobile  1690046000\n",
       "47    1048        1  desktop  1690047000\n",
       "48    1049        0      web  1690048000\n",
       "49    1050        1   mobile  1690049000"
      ]
     },
     "execution_count": 26,
     "metadata": {},
     "output_type": "execute_result"
    }
   ],
   "source": [
    "logs.shape\n",
    "logs.dtypes\n",
    "logs.describe()\n",
    "logs"
   ]
  },
  {
   "cell_type": "markdown",
   "id": "93e8cf8d-2ccb-4c6e-84d0-cda4ff440ea7",
   "metadata": {},
   "source": [
    "### 1. Определим с какой платформы осуществляется наибольшее количество успешных операций"
   ]
  },
  {
   "cell_type": "code",
   "execution_count": 27,
   "id": "ad1af840-bb23-4ac7-88ce-54ce40c664ec",
   "metadata": {},
   "outputs": [
    {
     "data": {
      "text/html": [
       "<div>\n",
       "<style scoped>\n",
       "    .dataframe tbody tr th:only-of-type {\n",
       "        vertical-align: middle;\n",
       "    }\n",
       "\n",
       "    .dataframe tbody tr th {\n",
       "        vertical-align: top;\n",
       "    }\n",
       "\n",
       "    .dataframe thead th {\n",
       "        text-align: right;\n",
       "    }\n",
       "</style>\n",
       "<table border=\"1\" class=\"dataframe\">\n",
       "  <thead>\n",
       "    <tr style=\"text-align: right;\">\n",
       "      <th></th>\n",
       "      <th>platform</th>\n",
       "      <th>success_count</th>\n",
       "    </tr>\n",
       "  </thead>\n",
       "  <tbody>\n",
       "    <tr>\n",
       "      <th>0</th>\n",
       "      <td>desktop</td>\n",
       "      <td>15</td>\n",
       "    </tr>\n",
       "    <tr>\n",
       "      <th>1</th>\n",
       "      <td>mobile</td>\n",
       "      <td>9</td>\n",
       "    </tr>\n",
       "    <tr>\n",
       "      <th>2</th>\n",
       "      <td>web</td>\n",
       "      <td>9</td>\n",
       "    </tr>\n",
       "  </tbody>\n",
       "</table>\n",
       "</div>"
      ],
      "text/plain": [
       "  platform  success_count\n",
       "0  desktop             15\n",
       "1   mobile              9\n",
       "2      web              9"
      ]
     },
     "execution_count": 27,
     "metadata": {},
     "output_type": "execute_result"
    }
   ],
   "source": [
    "\n",
    "top_platform = (logs.query('success == 1')\n",
    "                .groupby(['platform'], as_index=False)\n",
    "                .agg(success_count=('success', 'sum')))\n",
    "top_platform"
   ]
  },
  {
   "cell_type": "code",
   "execution_count": 28,
   "id": "447f74a8-7244-434e-af0f-6c318e226a91",
   "metadata": {},
   "outputs": [],
   "source": [
    "#Какая платформа наиболее популярна среди премиумных клиентов?"
   ]
  },
  {
   "cell_type": "code",
   "execution_count": 29,
   "id": "486962c6-5c01-48cf-94ce-7ea0a7647fea",
   "metadata": {},
   "outputs": [],
   "source": [
    "\n",
    "premium_client = user_data[['client', 'premium']]"
   ]
  },
  {
   "cell_type": "code",
   "execution_count": 30,
   "id": "e464c37c-98a7-4868-aa0d-bbbfb3e57f35",
   "metadata": {},
   "outputs": [],
   "source": [
    "premium_client = premium_client.query('premium == True')"
   ]
  },
  {
   "cell_type": "code",
   "execution_count": 31,
   "id": "ab0df5c2-af7a-472c-805a-ee0206ef0f2c",
   "metadata": {},
   "outputs": [],
   "source": [
    "premium_platform = logs[['client', 'platform']]"
   ]
  },
  {
   "cell_type": "code",
   "execution_count": 32,
   "id": "a6e703d3-d820-475a-84e9-26b7f06c5007",
   "metadata": {},
   "outputs": [],
   "source": [
    "premium_df = premium_client.merge(premium_platform, on='client', how='inner')"
   ]
  },
  {
   "cell_type": "code",
   "execution_count": 33,
   "id": "73663a6b-06f2-4a6f-ac8c-91be5fc04b66",
   "metadata": {},
   "outputs": [
    {
     "data": {
      "text/html": [
       "<div>\n",
       "<style scoped>\n",
       "    .dataframe tbody tr th:only-of-type {\n",
       "        vertical-align: middle;\n",
       "    }\n",
       "\n",
       "    .dataframe tbody tr th {\n",
       "        vertical-align: top;\n",
       "    }\n",
       "\n",
       "    .dataframe thead th {\n",
       "        text-align: right;\n",
       "    }\n",
       "</style>\n",
       "<table border=\"1\" class=\"dataframe\">\n",
       "  <thead>\n",
       "    <tr style=\"text-align: right;\">\n",
       "      <th></th>\n",
       "      <th>platform</th>\n",
       "      <th>count</th>\n",
       "    </tr>\n",
       "  </thead>\n",
       "  <tbody>\n",
       "    <tr>\n",
       "      <th>2</th>\n",
       "      <td>web</td>\n",
       "      <td>9</td>\n",
       "    </tr>\n",
       "    <tr>\n",
       "      <th>1</th>\n",
       "      <td>mobile</td>\n",
       "      <td>9</td>\n",
       "    </tr>\n",
       "    <tr>\n",
       "      <th>0</th>\n",
       "      <td>desktop</td>\n",
       "      <td>8</td>\n",
       "    </tr>\n",
       "  </tbody>\n",
       "</table>\n",
       "</div>"
      ],
      "text/plain": [
       "  platform  count\n",
       "2      web      9\n",
       "1   mobile      9\n",
       "0  desktop      8"
      ]
     },
     "execution_count": 33,
     "metadata": {},
     "output_type": "execute_result"
    }
   ],
   "source": [
    "premium_df = (premium_df.groupby(['platform'],as_index=False)\n",
    "              .agg({'client': 'count'})\n",
    "              .rename(columns={'client': 'count'})\n",
    "              .sort_values(['platform'], ascending = False))\n",
    "premium_df"
   ]
  },
  {
   "cell_type": "markdown",
   "id": "567abcd1-1fd2-4e14-bd0a-dedb256fdf37",
   "metadata": {},
   "source": [
    "### 1. Выводы:\n",
    "- наиболее популярная платформа среди пользователей **desktop**\n",
    "- но премиальные клиенты предпочитают  **mobile** и **web**\t"
   ]
  },
  {
   "cell_type": "markdown",
   "id": "fe834f71-0e9f-42e8-a10d-8ce8f38318ce",
   "metadata": {},
   "source": [
    "### 2. Изучаю распределение возраста клиентов в зависимости от типа клиента (обычный или премиум)"
   ]
  },
  {
   "cell_type": "code",
   "execution_count": 35,
   "id": "e2976eba-8b05-4c55-b394-edb3685060e7",
   "metadata": {},
   "outputs": [],
   "source": [
    "main_df = user_data.merge(logs, on='client', how='inner')"
   ]
  },
  {
   "cell_type": "code",
   "execution_count": 36,
   "id": "8f00ef24-e67a-4957-a535-1a3be71614fe",
   "metadata": {},
   "outputs": [],
   "source": [
    "premium_age = main_df.query('premium == True')"
   ]
  },
  {
   "cell_type": "code",
   "execution_count": 37,
   "id": "2f86231e-f0ef-4cdf-8ee2-f9b073f5bc5d",
   "metadata": {},
   "outputs": [],
   "source": [
    "not_premium_age = main_df.query('premium == False')"
   ]
  },
  {
   "cell_type": "code",
   "execution_count": 22,
   "id": "a85c07e3-8687-4905-96dd-b3e26e3eaa99",
   "metadata": {},
   "outputs": [
    {
     "name": "stderr",
     "output_type": "stream",
     "text": [
      "/var/folders/67/ddmy4vp54993p77g6knmjv780000gn/T/ipykernel_51414/2912321702.py:1: UserWarning: \n",
      "\n",
      "`distplot` is a deprecated function and will be removed in seaborn v0.14.0.\n",
      "\n",
      "Please adapt your code to use either `displot` (a figure-level function with\n",
      "similar flexibility) or `histplot` (an axes-level function for histograms).\n",
      "\n",
      "For a guide to updating your code to use the new functions, please see\n",
      "https://gist.github.com/mwaskom/de44147ed2974457ad6372750bbe5751\n",
      "\n",
      "  sns.distplot(premium_age.age)\n",
      "/opt/anaconda3/lib/python3.11/site-packages/seaborn/_oldcore.py:1119: FutureWarning: use_inf_as_na option is deprecated and will be removed in a future version. Convert inf values to NaN before operating instead.\n",
      "  with pd.option_context('mode.use_inf_as_na', True):\n",
      "/var/folders/67/ddmy4vp54993p77g6knmjv780000gn/T/ipykernel_51414/2912321702.py:2: UserWarning: \n",
      "\n",
      "`distplot` is a deprecated function and will be removed in seaborn v0.14.0.\n",
      "\n",
      "Please adapt your code to use either `displot` (a figure-level function with\n",
      "similar flexibility) or `histplot` (an axes-level function for histograms).\n",
      "\n",
      "For a guide to updating your code to use the new functions, please see\n",
      "https://gist.github.com/mwaskom/de44147ed2974457ad6372750bbe5751\n",
      "\n",
      "  sns.distplot(not_premium_age.age)\n",
      "/opt/anaconda3/lib/python3.11/site-packages/seaborn/_oldcore.py:1119: FutureWarning: use_inf_as_na option is deprecated and will be removed in a future version. Convert inf values to NaN before operating instead.\n",
      "  with pd.option_context('mode.use_inf_as_na', True):\n"
     ]
    },
    {
     "data": {
      "text/plain": [
       "<Axes: xlabel='age', ylabel='Density'>"
      ]
     },
     "execution_count": 22,
     "metadata": {},
     "output_type": "execute_result"
    },
    {
     "data": {
      "image/png": "[encoded data removed]",
      "text/plain": [
       "<Figure size 640x480 with 1 Axes>"
      ]
     },
     "metadata": {},
     "output_type": "display_data"
    }
   ],
   "source": [
    "sns.distplot(premium_age.age)\n",
    "sns.distplot(not_premium_age.age)"
   ]
  },
  {
   "cell_type": "code",
   "execution_count": 41,
   "id": "7ea45231-4cca-4026-9c34-276980560478",
   "metadata": {},
   "outputs": [
    {
     "data": {
      "text/plain": [
       "<Axes: xlabel='premium', ylabel='count'>"
      ]
     },
     "execution_count": 41,
     "metadata": {},
     "output_type": "execute_result"
    },
    {
     "data": {
      "image/png": "[encoded data removed]",
      "text/plain": [
       "<Figure size 640x480 with 1 Axes>"
      ]
     },
     "metadata": {},
     "output_type": "display_data"
    }
   ],
   "source": [
    "sns.countplot(success_df, x=\"premium\", )"
   ]
  },
  {
   "cell_type": "markdown",
   "id": "154207b2-5825-4274-a0ac-655e2e3e0ff2",
   "metadata": {},
   "source": [
    "### 2. Выводы\n",
    "- среди премиальных клиентов преобладает возрат **30-40 лет**\n",
    "- среди непремиальных клиентов преобладает возраст **20-30 лет**\n",
    "- число успешных операций выше в сегменте премиальных клиентов"
   ]
  },
  {
   "cell_type": "markdown",
   "id": "1bf6a69a-8e21-4dc2-b408-90612559c597",
   "metadata": {},
   "source": [
    "### 3. Изучаю число успешных операций, сделанных на платформе desktop (самая популярная платформа среди пользователей п.1), в зависимости от возраста"
   ]
  },
  {
   "cell_type": "code",
   "execution_count": 44,
   "id": "400cdce4-e676-41fa-ad2e-6ed6904bc4b6",
   "metadata": {},
   "outputs": [],
   "source": [
    "success_df = (main_df.query('success == 1'))"
   ]
  },
  {
   "cell_type": "code",
   "execution_count": 45,
   "id": "33a5c723-a44c-4c97-863c-d3393bb349d0",
   "metadata": {},
   "outputs": [
    {
     "data": {
      "text/plain": [
       "<Axes: xlabel='age', ylabel='count'>"
      ]
     },
     "execution_count": 45,
     "metadata": {},
     "output_type": "execute_result"
    },
    {
     "data": {
      "image/png": "[encoded data removed]",
      "text/plain": [
       "<Figure size 640x480 with 1 Axes>"
      ]
     },
     "metadata": {},
     "output_type": "display_data"
    }
   ],
   "source": [
    "sns.countplot(success_df, x=\"age\", )"
   ]
  },
  {
   "cell_type": "code",
   "execution_count": 46,
   "id": "2eed1075-841c-4b2c-bdda-47013b3c92a3",
   "metadata": {},
   "outputs": [],
   "source": [
    "success_df = (main_df.query('success == 1')\n",
    "              .query(\"platform == 'desktop'\"))"
   ]
  },
  {
   "cell_type": "code",
   "execution_count": 47,
   "id": "6196b104-8674-4d03-baa5-fe429d5a1072",
   "metadata": {},
   "outputs": [
    {
     "data": {
      "text/plain": [
       "<Axes: xlabel='age', ylabel='count'>"
      ]
     },
     "execution_count": 47,
     "metadata": {},
     "output_type": "execute_result"
    },
    {
     "data": {
      "image/png": "[encoded data removed]",
      "text/plain": [
       "<Figure size 640x480 with 1 Axes>"
      ]
     },
     "metadata": {},
     "output_type": "display_data"
    }
   ],
   "source": [
    "sns.countplot(success_df, x=\"age\", )"
   ]
  },
  {
   "cell_type": "markdown",
   "id": "72b3919e-7372-41a4-b9f9-431338b8eef2",
   "metadata": {},
   "source": [
    "### 3. Выводы \n",
    "- наибольшее количество успешных операций (в сумме со всех платформ) было сделано пользователями в возрасте **25 лет**\n",
    "- наибольшее количество успешных операций на платформе **desktop** было проведено пользователями в возрасте **36, 38, 45 лет**"
   ]
  },
  {
   "cell_type": "markdown",
   "id": "0678d07d-b07a-4f98-a2c4-844d88e90c66",
   "metadata": {},
   "source": [
    "## Основные выводы\n",
    "1. Платформа **desktop** оказалась самой популярной для успешных операций, а среди премиумных клиентов платформы **web**, **mobile**.\n",
    "2. Возрастное распределение клиентов показывает, что активность выше в возрасте **25 лет**\n",
    "3. Но при этом общая активность выше в сегменте премиальных клиентов, где преобладают клиенты в возрасте 30-40 лет"
   ]
  },
  {
   "cell_type": "code",
   "execution_count": null,
   "id": "98778e85-5f60-484d-a29a-0342e50f2341",
   "metadata": {},
   "outputs": [],
   "source": []
  }
 ],
 "metadata": {
  "kernelspec": {
   "display_name": "Python 3 (ipykernel)",
   "language": "python",
   "name": "python3"
  },
  "language_info": {
   "codemirror_mode": {
    "name": "ipython",
    "version": 3
   },
   "file_extension": ".py",
   "mimetype": "text/x-python",
   "name": "python",
   "nbconvert_exporter": "python",
   "pygments_lexer": "ipython3",
   "version": "3.11.7"
  }
 },
 "nbformat": 4,
 "nbformat_minor": 5
}
