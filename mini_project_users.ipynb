{
 "cells": [
  {
   "cell_type": "markdown",
   "id": "b11b80ca-1ca9-4d31-b528-6d7ba7096446",
   "metadata": {},
   "source": [
    "## Анализ поведения клиентов на сайте"
   ]
  },
  {
   "cell_type": "markdown",
   "id": "693117ea-566e-47f6-9172-37a53897a68a",
   "metadata": {},
   "source": [
    "## О проекте\n",
    "\n",
    "Этот учебный проект был выполнен в рамках курса по аналитике данных.  \n",
    "Задача — провести исследование пользовательского поведения и платформенных предпочтений, используя данные о клиентах и их действиях в приложении.\n",
    "\n",
    "---\n",
    "\n",
    "## Цели проекта\n",
    "\n",
    "- Ознакомиться с реальными пользовательскими логами\n",
    "- Построить базовый продуктовый анализ\n",
    "- Ответить на бизнес-вопросы с помощью Python и визуализации\n",
    "- Потренироваться в группировках, фильтрации и построении графиков\n",
    "\n",
    "---\n",
    "\n",
    "## Задачи\n",
    "\n",
    "1. Импортировать библиотеки, загрузить датасеты `user_data` и `logs`, проверить:\n",
    "   - размер таблиц\n",
    "   - типы данных\n",
    "   - пропущенные значения\n",
    "   - описательную статистику\n",
    "\n",
    "2. Узнать, **с какой платформы осуществляется больше всего успешных операций**\n",
    "\n",
    "3. Посмотреть, **какую платформу предпочитают премиум-клиенты**\n",
    "\n",
    "4. **Визуализировать распределение возраста клиентов**, в зависимости от типа (премиум / обычный)\n",
    "\n",
    "5. Построить **распределение числа успешных операций**\n",
    "\n",
    "7. Построить график `sns.countplot`:\n",
    "   - по платформе `computer`\n",
    "   - `x`: возраст, `y`: количество успешных операций  \n",
    "   → определить, **клиенты какого возраста совершают больше успешных действий**\n",
    "\n",
    "## Описание данных\n",
    "\n",
    "### user_data.csv\n",
    "\n",
    "Информация о клиентах:\n",
    "\n",
    "| Поле      | Описание                                      |\n",
    "|-----------|-----------------------------------------------|\n",
    "| `client`  | Идентификатор пользователя                    |\n",
    "| `premium` | Является ли пользователь премиум-клиентом (`True` / `False`) |\n",
    "| `age`     | Возраст пользователя                          |\n",
    "\n",
    "---\n",
    "\n",
    "### logs.csv\n",
    "\n",
    "События и действия пользователей в приложении:\n",
    "\n",
    "| Поле      | Описание                                      |\n",
    "|-----------|-----------------------------------------------|\n",
    "| `client`  | Идентификатор пользователя                    |\n",
    "| `success` | Результат действия: `1` — успех, `0` — неуспех |\n",
    "| `platform`| Платформа, с которой зашёл пользователь (например, `mobile`, `web`) |\n",
    "| `time`    | Время события в формате Unix-времени          |"
   ]
  },
  {
   "cell_type": "code",
   "execution_count": 1,
   "id": "af068eb1-4e85-4a3e-9e4f-5af1b8694f43",
   "metadata": {},
   "outputs": [],
   "source": [
    "#импорт необходимых библиотек\n",
    "import pandas as pd \n",
    "import seaborn as sns\n",
    "import matplotlib.pyplot as plt\n",
    "import seaborn as sns\n",
    "import plotly.express as px"
   ]
  },
  {
   "cell_type": "markdown",
   "id": "6fbe8ca4-9045-4f97-85da-9944c53524f7",
   "metadata": {},
   "source": [
    "### Загружаем csv-файлы с данными о пользователях и их действиях на сайте"
   ]
  },
  {
   "cell_type": "code",
   "execution_count": 2,
   "id": "8af3bb71-2c9d-40b5-8122-11ee2d2009d9",
   "metadata": {},
   "outputs": [],
   "source": [
    "#импорт csv c разделитлем ,\n",
    "#загружаем файл в df\n",
    "\n",
    "user_data = pd.read_csv('/Users/ajsyluakataeva/Karpov/lesson_3/user_data.csv', sep=',')\n",
    "logs = pd.read_csv('/Users/ajsyluakataeva/Karpov/lesson_3/logs.csv', sep=',')"
   ]
  },
  {
   "cell_type": "code",
   "execution_count": 16,
   "id": "cc05782e-0ce9-45d4-8206-f845bfcec7b3",
   "metadata": {},
   "outputs": [
    {
     "data": {
      "text/html": [
       "<div>\n",
       "<style scoped>\n",
       "    .dataframe tbody tr th:only-of-type {\n",
       "        vertical-align: middle;\n",
       "    }\n",
       "\n",
       "    .dataframe tbody tr th {\n",
       "        vertical-align: top;\n",
       "    }\n",
       "\n",
       "    .dataframe thead th {\n",
       "        text-align: right;\n",
       "    }\n",
       "</style>\n",
       "<table border=\"1\" class=\"dataframe\">\n",
       "  <thead>\n",
       "    <tr style=\"text-align: right;\">\n",
       "      <th></th>\n",
       "      <th>client</th>\n",
       "      <th>premium</th>\n",
       "      <th>age</th>\n",
       "    </tr>\n",
       "  </thead>\n",
       "  <tbody>\n",
       "    <tr>\n",
       "      <th>0</th>\n",
       "      <td>1001</td>\n",
       "      <td>True</td>\n",
       "      <td>25</td>\n",
       "    </tr>\n",
       "    <tr>\n",
       "      <th>1</th>\n",
       "      <td>1002</td>\n",
       "      <td>False</td>\n",
       "      <td>30</td>\n",
       "    </tr>\n",
       "    <tr>\n",
       "      <th>2</th>\n",
       "      <td>1003</td>\n",
       "      <td>True</td>\n",
       "      <td>45</td>\n",
       "    </tr>\n",
       "    <tr>\n",
       "      <th>3</th>\n",
       "      <td>1004</td>\n",
       "      <td>False</td>\n",
       "      <td>22</td>\n",
       "    </tr>\n",
       "    <tr>\n",
       "      <th>4</th>\n",
       "      <td>1005</td>\n",
       "      <td>True</td>\n",
       "      <td>35</td>\n",
       "    </tr>\n",
       "  </tbody>\n",
       "</table>\n",
       "</div>"
      ],
      "text/plain": [
       "   client  premium  age\n",
       "0    1001     True   25\n",
       "1    1002    False   30\n",
       "2    1003     True   45\n",
       "3    1004    False   22\n",
       "4    1005     True   35"
      ]
     },
     "execution_count": 16,
     "metadata": {},
     "output_type": "execute_result"
    }
   ],
   "source": [
    "user_data.shape\n",
    "user_data.dtypes\n",
    "user_data.describe()\n",
    "user_data.head()"
   ]
  },
  {
   "cell_type": "code",
   "execution_count": 17,
   "id": "f18069e5-1e34-44e1-80f6-3d4a57dcae27",
   "metadata": {},
   "outputs": [
    {
     "data": {
      "text/html": [
       "<div>\n",
       "<style scoped>\n",
       "    .dataframe tbody tr th:only-of-type {\n",
       "        vertical-align: middle;\n",
       "    }\n",
       "\n",
       "    .dataframe tbody tr th {\n",
       "        vertical-align: top;\n",
       "    }\n",
       "\n",
       "    .dataframe thead th {\n",
       "        text-align: right;\n",
       "    }\n",
       "</style>\n",
       "<table border=\"1\" class=\"dataframe\">\n",
       "  <thead>\n",
       "    <tr style=\"text-align: right;\">\n",
       "      <th></th>\n",
       "      <th>client</th>\n",
       "      <th>success</th>\n",
       "      <th>platform</th>\n",
       "      <th>time</th>\n",
       "    </tr>\n",
       "  </thead>\n",
       "  <tbody>\n",
       "    <tr>\n",
       "      <th>0</th>\n",
       "      <td>1001</td>\n",
       "      <td>1</td>\n",
       "      <td>web</td>\n",
       "      <td>1690000000</td>\n",
       "    </tr>\n",
       "    <tr>\n",
       "      <th>1</th>\n",
       "      <td>1001</td>\n",
       "      <td>1</td>\n",
       "      <td>mobile</td>\n",
       "      <td>1690001000</td>\n",
       "    </tr>\n",
       "    <tr>\n",
       "      <th>2</th>\n",
       "      <td>1003</td>\n",
       "      <td>1</td>\n",
       "      <td>desktop</td>\n",
       "      <td>1690002000</td>\n",
       "    </tr>\n",
       "    <tr>\n",
       "      <th>3</th>\n",
       "      <td>1004</td>\n",
       "      <td>1</td>\n",
       "      <td>web</td>\n",
       "      <td>1690003000</td>\n",
       "    </tr>\n",
       "    <tr>\n",
       "      <th>4</th>\n",
       "      <td>1005</td>\n",
       "      <td>0</td>\n",
       "      <td>mobile</td>\n",
       "      <td>1690004000</td>\n",
       "    </tr>\n",
       "  </tbody>\n",
       "</table>\n",
       "</div>"
      ],
      "text/plain": [
       "   client  success platform        time\n",
       "0    1001        1      web  1690000000\n",
       "1    1001        1   mobile  1690001000\n",
       "2    1003        1  desktop  1690002000\n",
       "3    1004        1      web  1690003000\n",
       "4    1005        0   mobile  1690004000"
      ]
     },
     "execution_count": 17,
     "metadata": {},
     "output_type": "execute_result"
    }
   ],
   "source": [
    "logs.shape\n",
    "logs.dtypes\n",
    "logs.describe()\n",
    "logs.head()"
   ]
  },
  {
   "cell_type": "markdown",
   "id": "93e8cf8d-2ccb-4c6e-84d0-cda4ff440ea7",
   "metadata": {},
   "source": [
    "### 1. Определим с какой платформы осуществляется наибольшее количество успешных операций"
   ]
  },
  {
   "cell_type": "code",
   "execution_count": 18,
   "id": "ad1af840-bb23-4ac7-88ce-54ce40c664ec",
   "metadata": {},
   "outputs": [
    {
     "data": {
      "text/html": [
       "<div>\n",
       "<style scoped>\n",
       "    .dataframe tbody tr th:only-of-type {\n",
       "        vertical-align: middle;\n",
       "    }\n",
       "\n",
       "    .dataframe tbody tr th {\n",
       "        vertical-align: top;\n",
       "    }\n",
       "\n",
       "    .dataframe thead th {\n",
       "        text-align: right;\n",
       "    }\n",
       "</style>\n",
       "<table border=\"1\" class=\"dataframe\">\n",
       "  <thead>\n",
       "    <tr style=\"text-align: right;\">\n",
       "      <th></th>\n",
       "      <th>platform</th>\n",
       "      <th>success_count</th>\n",
       "    </tr>\n",
       "  </thead>\n",
       "  <tbody>\n",
       "    <tr>\n",
       "      <th>0</th>\n",
       "      <td>desktop</td>\n",
       "      <td>15</td>\n",
       "    </tr>\n",
       "    <tr>\n",
       "      <th>1</th>\n",
       "      <td>mobile</td>\n",
       "      <td>9</td>\n",
       "    </tr>\n",
       "    <tr>\n",
       "      <th>2</th>\n",
       "      <td>web</td>\n",
       "      <td>9</td>\n",
       "    </tr>\n",
       "  </tbody>\n",
       "</table>\n",
       "</div>"
      ],
      "text/plain": [
       "  platform  success_count\n",
       "0  desktop             15\n",
       "1   mobile              9\n",
       "2      web              9"
      ]
     },
     "execution_count": 18,
     "metadata": {},
     "output_type": "execute_result"
    }
   ],
   "source": [
    "top_platform = (logs.query('success == 1')\n",
    "                .groupby(['platform'], as_index=False)\n",
    "                .agg(success_count=('success', 'sum')))\n",
    "top_platform"
   ]
  },
  {
   "cell_type": "code",
   "execution_count": 19,
   "id": "447f74a8-7244-434e-af0f-6c318e226a91",
   "metadata": {},
   "outputs": [],
   "source": [
    "#Какая платформа наиболее популярна среди премиумных клиентов?"
   ]
  },
  {
   "cell_type": "code",
   "execution_count": 20,
   "id": "486962c6-5c01-48cf-94ce-7ea0a7647fea",
   "metadata": {},
   "outputs": [],
   "source": [
    "premium_client = user_data[['client', 'premium']]"
   ]
  },
  {
   "cell_type": "code",
   "execution_count": 21,
   "id": "e464c37c-98a7-4868-aa0d-bbbfb3e57f35",
   "metadata": {},
   "outputs": [],
   "source": [
    "premium_client = premium_client.query('premium == True')"
   ]
  },
  {
   "cell_type": "code",
   "execution_count": 22,
   "id": "ab0df5c2-af7a-472c-805a-ee0206ef0f2c",
   "metadata": {},
   "outputs": [],
   "source": [
    "premium_platform = logs[['client', 'platform']]"
   ]
  },
  {
   "cell_type": "code",
   "execution_count": 23,
   "id": "a6e703d3-d820-475a-84e9-26b7f06c5007",
   "metadata": {},
   "outputs": [],
   "source": [
    "premium_df = premium_client.merge(premium_platform, on='client', how='inner')"
   ]
  },
  {
   "cell_type": "code",
   "execution_count": 24,
   "id": "73663a6b-06f2-4a6f-ac8c-91be5fc04b66",
   "metadata": {},
   "outputs": [
    {
     "data": {
      "text/html": [
       "<div>\n",
       "<style scoped>\n",
       "    .dataframe tbody tr th:only-of-type {\n",
       "        vertical-align: middle;\n",
       "    }\n",
       "\n",
       "    .dataframe tbody tr th {\n",
       "        vertical-align: top;\n",
       "    }\n",
       "\n",
       "    .dataframe thead th {\n",
       "        text-align: right;\n",
       "    }\n",
       "</style>\n",
       "<table border=\"1\" class=\"dataframe\">\n",
       "  <thead>\n",
       "    <tr style=\"text-align: right;\">\n",
       "      <th></th>\n",
       "      <th>platform</th>\n",
       "      <th>count</th>\n",
       "    </tr>\n",
       "  </thead>\n",
       "  <tbody>\n",
       "    <tr>\n",
       "      <th>2</th>\n",
       "      <td>web</td>\n",
       "      <td>9</td>\n",
       "    </tr>\n",
       "    <tr>\n",
       "      <th>1</th>\n",
       "      <td>mobile</td>\n",
       "      <td>9</td>\n",
       "    </tr>\n",
       "    <tr>\n",
       "      <th>0</th>\n",
       "      <td>desktop</td>\n",
       "      <td>8</td>\n",
       "    </tr>\n",
       "  </tbody>\n",
       "</table>\n",
       "</div>"
      ],
      "text/plain": [
       "  platform  count\n",
       "2      web      9\n",
       "1   mobile      9\n",
       "0  desktop      8"
      ]
     },
     "execution_count": 24,
     "metadata": {},
     "output_type": "execute_result"
    }
   ],
   "source": [
    "premium_df = (premium_df.groupby(['platform'],as_index=False)\n",
    "              .agg({'client': 'count'})\n",
    "              .rename(columns={'client': 'count'})\n",
    "              .sort_values(['platform'], ascending = False))\n",
    "premium_df"
   ]
  },
  {
   "cell_type": "markdown",
   "id": "567abcd1-1fd2-4e14-bd0a-dedb256fdf37",
   "metadata": {},
   "source": [
    "### 1. Выводы:\n",
    "- наиболее популярная платформа среди пользователей **desktop**\n",
    "- но премиальные клиенты предпочитают  **mobile** и **web**\t"
   ]
  },
  {
   "cell_type": "markdown",
   "id": "fe834f71-0e9f-42e8-a10d-8ce8f38318ce",
   "metadata": {},
   "source": [
    "### 2. Изучаю распределение возраста клиентов в зависимости от типа клиента (обычный или премиум)"
   ]
  },
  {
   "cell_type": "code",
   "execution_count": 25,
   "id": "e2976eba-8b05-4c55-b394-edb3685060e7",
   "metadata": {},
   "outputs": [],
   "source": [
    "main_df = user_data.merge(logs, on='client', how='inner')"
   ]
  },
  {
   "cell_type": "code",
   "execution_count": 26,
   "id": "8f00ef24-e67a-4957-a535-1a3be71614fe",
   "metadata": {},
   "outputs": [],
   "source": [
    "premium_age = main_df.query('premium == True')"
   ]
  },
  {
   "cell_type": "code",
   "execution_count": 27,
   "id": "2f86231e-f0ef-4cdf-8ee2-f9b073f5bc5d",
   "metadata": {},
   "outputs": [],
   "source": [
    "not_premium_age = main_df.query('premium == False')"
   ]
  },
  {
   "cell_type": "code",
   "execution_count": 28,
   "id": "a85c07e3-8687-4905-96dd-b3e26e3eaa99",
   "metadata": {},
   "outputs": [
    {
     "name": "stderr",
     "output_type": "stream",
     "text": [
      "/var/folders/67/ddmy4vp54993p77g6knmjv780000gn/T/ipykernel_16742/4234022117.py:2: UserWarning: \n",
      "\n",
      "`distplot` is a deprecated function and will be removed in seaborn v0.14.0.\n",
      "\n",
      "Please adapt your code to use either `displot` (a figure-level function with\n",
      "similar flexibility) or `histplot` (an axes-level function for histograms).\n",
      "\n",
      "For a guide to updating your code to use the new functions, please see\n",
      "https://gist.github.com/mwaskom/de44147ed2974457ad6372750bbe5751\n",
      "\n",
      "  sns.distplot(premium_age.age, label=\"Premium\")\n",
      "/opt/anaconda3/lib/python3.11/site-packages/seaborn/_oldcore.py:1119: FutureWarning: use_inf_as_na option is deprecated and will be removed in a future version. Convert inf values to NaN before operating instead.\n",
      "  with pd.option_context('mode.use_inf_as_na', True):\n",
      "/var/folders/67/ddmy4vp54993p77g6knmjv780000gn/T/ipykernel_16742/4234022117.py:3: UserWarning: \n",
      "\n",
      "`distplot` is a deprecated function and will be removed in seaborn v0.14.0.\n",
      "\n",
      "Please adapt your code to use either `displot` (a figure-level function with\n",
      "similar flexibility) or `histplot` (an axes-level function for histograms).\n",
      "\n",
      "For a guide to updating your code to use the new functions, please see\n",
      "https://gist.github.com/mwaskom/de44147ed2974457ad6372750bbe5751\n",
      "\n",
      "  sns.distplot(not_premium_age.age, label=\"Обычные\")\n",
      "/opt/anaconda3/lib/python3.11/site-packages/seaborn/_oldcore.py:1119: FutureWarning: use_inf_as_na option is deprecated and will be removed in a future version. Convert inf values to NaN before operating instead.\n",
      "  with pd.option_context('mode.use_inf_as_na', True):\n"
     ]
    },
    {
     "data": {
      "text/plain": [
       "<matplotlib.legend.Legend at 0x137011fd0>"
      ]
     },
     "execution_count": 28,
     "metadata": {},
     "output_type": "execute_result"
    },
    {
     "data": {
      "image/png": "[encoded data removed]",
      "text/plain": [
       "<Figure size 640x480 with 1 Axes>"
      ]
     },
     "metadata": {},
     "output_type": "display_data"
    }
   ],
   "source": [
    "plt.title(\"Распределение возраста клиентов по типу (premium vs обычный)\")\n",
    "sns.distplot(premium_age.age, label=\"Premium\")\n",
    "sns.distplot(not_premium_age.age, label=\"Обычные\")\n",
    "plt.legend()"
   ]
  },
  {
   "cell_type": "code",
   "execution_count": 30,
   "id": "0f52709f-ed34-4a45-b29b-eadae2285fba",
   "metadata": {},
   "outputs": [],
   "source": [
    "success_df = main_df.query('success == 1')"
   ]
  },
  {
   "cell_type": "code",
   "execution_count": 31,
   "id": "7ea45231-4cca-4026-9c34-276980560478",
   "metadata": {},
   "outputs": [
    {
     "data": {
      "text/plain": [
       "<Axes: xlabel='premium', ylabel='count'>"
      ]
     },
     "execution_count": 31,
     "metadata": {},
     "output_type": "execute_result"
    },
    {
     "data": {
      "image/png": "[encoded data removed]",
      "text/plain": [
       "<Figure size 640x480 with 1 Axes>"
      ]
     },
     "metadata": {},
     "output_type": "display_data"
    }
   ],
   "source": [
    "sns.countplot(success_df, x=\"premium\", )"
   ]
  },
  {
   "cell_type": "markdown",
   "id": "154207b2-5825-4274-a0ac-655e2e3e0ff2",
   "metadata": {},
   "source": [
    "### 2. Выводы\n",
    "- среди премиальных клиентов преобладает возрат **30-40 лет**\n",
    "- среди непремиальных клиентов преобладает возраст **20-30 лет**\n",
    "- число успешных операций выше в сегменте премиальных клиентов"
   ]
  },
  {
   "cell_type": "markdown",
   "id": "1bf6a69a-8e21-4dc2-b408-90612559c597",
   "metadata": {},
   "source": [
    "### 3. Изучаю число успешных операций, сделанных на платформе desktop (самая популярная платформа среди пользователей п.1), в зависимости от возраста"
   ]
  },
  {
   "cell_type": "code",
   "execution_count": 32,
   "id": "400cdce4-e676-41fa-ad2e-6ed6904bc4b6",
   "metadata": {},
   "outputs": [],
   "source": [
    "success_df = (main_df.query('success == 1'))"
   ]
  },
  {
   "cell_type": "code",
   "execution_count": 33,
   "id": "33a5c723-a44c-4c97-863c-d3393bb349d0",
   "metadata": {},
   "outputs": [
    {
     "data": {
      "text/plain": [
       "<Axes: xlabel='age', ylabel='count'>"
      ]
     },
     "execution_count": 33,
     "metadata": {},
     "output_type": "execute_result"
    },
    {
     "data": {
      "image/png": "[encoded data removed]",
      "text/plain": [
       "<Figure size 640x480 with 1 Axes>"
      ]
     },
     "metadata": {},
     "output_type": "display_data"
    }
   ],
   "source": [
    "sns.countplot(success_df, x=\"age\", )"
   ]
  },
  {
   "cell_type": "code",
   "execution_count": 34,
   "id": "2eed1075-841c-4b2c-bdda-47013b3c92a3",
   "metadata": {},
   "outputs": [],
   "source": [
    "success_df = (main_df.query('success == 1')\n",
    "              .query(\"platform == 'desktop'\"))"
   ]
  },
  {
   "cell_type": "code",
   "execution_count": 35,
   "id": "6196b104-8674-4d03-baa5-fe429d5a1072",
   "metadata": {},
   "outputs": [
    {
     "data": {
      "text/plain": [
       "<Axes: xlabel='age', ylabel='count'>"
      ]
     },
     "execution_count": 35,
     "metadata": {},
     "output_type": "execute_result"
    },
    {
     "data": {
      "image/png": "[encoded data removed]",
      "text/plain": [
       "<Figure size 640x480 with 1 Axes>"
      ]
     },
     "metadata": {},
     "output_type": "display_data"
    }
   ],
   "source": [
    "sns.countplot(success_df, x=\"age\", )"
   ]
  },
  {
   "cell_type": "markdown",
   "id": "72b3919e-7372-41a4-b9f9-431338b8eef2",
   "metadata": {},
   "source": [
    "### 3. Выводы \n",
    "- наибольшее количество успешных операций (в сумме со всех платформ) было сделано пользователями в возрасте **25 лет**\n",
    "- наибольшее количество успешных операций на платформе **desktop** было проведено пользователями в возрасте **36, 38, 45 лет**"
   ]
  },
  {
   "cell_type": "markdown",
   "id": "0678d07d-b07a-4f98-a2c4-844d88e90c66",
   "metadata": {},
   "source": [
    "## Основные выводы\n",
    "1. Платформа **desktop** оказалась самой популярной для успешных операций, а среди премиумных клиентов платформы **web**, **mobile**.\n",
    "2. Возрастное распределение клиентов показывает, что активность выше в возрасте **25 лет**\n",
    "3. Но при этом общая активность выше в сегменте премиальных клиентов, где преобладают клиенты в возрасте 30-40 лет"
   ]
  },
  {
   "cell_type": "code",
   "execution_count": null,
   "id": "98778e85-5f60-484d-a29a-0342e50f2341",
   "metadata": {},
   "outputs": [],
   "source": []
  }
 ],
 "metadata": {
  "kernelspec": {
   "display_name": "Python 3 (ipykernel)",
   "language": "python",
   "name": "python3"
  },
  "language_info": {
   "codemirror_mode": {
    "name": "ipython",
    "version": 3
   },
   "file_extension": ".py",
   "mimetype": "text/x-python",
   "name": "python",
   "nbconvert_exporter": "python",
   "pygments_lexer": "ipython3",
   "version": "3.11.7"
  }
 },
 "nbformat": 4,
 "nbformat_minor": 5
}
